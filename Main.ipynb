{
 "cells": [
  {
   "cell_type": "code",
   "execution_count": 11,
   "metadata": {},
   "outputs": [],
   "source": [
    "# range of latitude in degrees is -90 and +90\n",
    "# range of longitude in degrees is -180 and +180\n",
    "\n",
    "# For reference, the Equator has a latitude of 0°, \n",
    "# the North pole has a latitude of 90° north (written 90° N or +90°), \n",
    "# and the South pole has a latitude of -90°.\n",
    "\n",
    "# The Prime Meridian has a longitude of 0° that goes through Greenwich, England. \n",
    "# The International Date Line (IDL) roughly follows the 180° longitude. \n",
    "# A longitude with a positive value falls in the eastern hemisphere and negative value falls in the western hemisphere."
   ]
  },
  {
   "cell_type": "code",
   "execution_count": 12,
   "metadata": {},
   "outputs": [],
   "source": [
    "# Include a print log of each city as it's being processed with the city number, city name, and requested URL.\n",
    "# Save both a CSV of all data retrieved and png images for each scatter plot."
   ]
  },
  {
   "cell_type": "code",
   "execution_count": 48,
   "metadata": {},
   "outputs": [],
   "source": [
    "# dependencies\n",
    "#new libraries\n",
    "from citipy import citipy\n",
    "# import openweathermapy.core as owm\n",
    "import seaborn as sns\n",
    "\n",
    "#get key for openweathermapy api\n",
    "from config import api_key\n",
    "\n",
    "from random import shuffle\n",
    "\n",
    "#everything else\n",
    "import requests\n",
    "import json\n",
    "import pandas as pd\n",
    "import numpy as np\n",
    "import matplotlib.pyplot as plt\n",
    "import time"
   ]
  },
  {
   "cell_type": "code",
   "execution_count": 73,
   "metadata": {},
   "outputs": [
    {
     "data": {
      "text/html": [
       "<div>\n",
       "<style scoped>\n",
       "    .dataframe tbody tr th:only-of-type {\n",
       "        vertical-align: middle;\n",
       "    }\n",
       "\n",
       "    .dataframe tbody tr th {\n",
       "        vertical-align: top;\n",
       "    }\n",
       "\n",
       "    .dataframe thead th {\n",
       "        text-align: right;\n",
       "    }\n",
       "</style>\n",
       "<table border=\"1\" class=\"dataframe\">\n",
       "  <thead>\n",
       "    <tr style=\"text-align: right;\">\n",
       "      <th></th>\n",
       "      <th>Latitude</th>\n",
       "      <th>Longitude</th>\n",
       "    </tr>\n",
       "  </thead>\n",
       "  <tbody>\n",
       "    <tr>\n",
       "      <th>0</th>\n",
       "      <td>70.501457</td>\n",
       "      <td>26.713374</td>\n",
       "    </tr>\n",
       "    <tr>\n",
       "      <th>1</th>\n",
       "      <td>-5.219204</td>\n",
       "      <td>39.947191</td>\n",
       "    </tr>\n",
       "    <tr>\n",
       "      <th>2</th>\n",
       "      <td>-44.034416</td>\n",
       "      <td>-128.524299</td>\n",
       "    </tr>\n",
       "    <tr>\n",
       "      <th>3</th>\n",
       "      <td>-14.133012</td>\n",
       "      <td>-103.387565</td>\n",
       "    </tr>\n",
       "    <tr>\n",
       "      <th>4</th>\n",
       "      <td>-88.152177</td>\n",
       "      <td>-168.339850</td>\n",
       "    </tr>\n",
       "  </tbody>\n",
       "</table>\n",
       "</div>"
      ],
      "text/plain": [
       "    Latitude   Longitude\n",
       "0  70.501457   26.713374\n",
       "1  -5.219204   39.947191\n",
       "2 -44.034416 -128.524299\n",
       "3 -14.133012 -103.387565\n",
       "4 -88.152177 -168.339850"
      ]
     },
     "execution_count": 73,
     "metadata": {},
     "output_type": "execute_result"
    }
   ],
   "source": [
    "# Randomly select at least 500 unique (non-repeat) cities based on latitude and longitude.\n",
    "\n",
    "# Getting random values for latitude and longitude\n",
    "n = 30 #number of random samples\n",
    "latup = 90\n",
    "longup = 180\n",
    "\n",
    "def Random_Range(LatorLong, NumberofVals):\n",
    "    w = np.unique(2 * LatorLong * np.random.ranf(NumberofVals)-LatorLong)\n",
    "    return w\n",
    "\n",
    "Rand_lat = Random_Range(latup, n)\n",
    "Rand_long = Random_Range(longup, n)\n",
    "\n",
    "shuffle(Rand_lat)\n",
    "shuffle(Rand_long)\n",
    "\n",
    "LatLong_data = pd.DataFrame({\"Latitude\": Rand_lat, \"Longitude\": Rand_long})\n",
    "LatLong_data.head()"
   ]
  },
  {
   "cell_type": "code",
   "execution_count": 74,
   "metadata": {},
   "outputs": [
    {
     "data": {
      "text/html": [
       "<div>\n",
       "<style scoped>\n",
       "    .dataframe tbody tr th:only-of-type {\n",
       "        vertical-align: middle;\n",
       "    }\n",
       "\n",
       "    .dataframe tbody tr th {\n",
       "        vertical-align: top;\n",
       "    }\n",
       "\n",
       "    .dataframe thead th {\n",
       "        text-align: right;\n",
       "    }\n",
       "</style>\n",
       "<table border=\"1\" class=\"dataframe\">\n",
       "  <thead>\n",
       "    <tr style=\"text-align: right;\">\n",
       "      <th></th>\n",
       "      <th>Latitude</th>\n",
       "      <th>Longitude</th>\n",
       "      <th>City Name</th>\n",
       "      <th>Country Code</th>\n",
       "    </tr>\n",
       "  </thead>\n",
       "  <tbody>\n",
       "    <tr>\n",
       "      <th>0</th>\n",
       "      <td>70.501457</td>\n",
       "      <td>26.713374</td>\n",
       "      <td>kjollefjord</td>\n",
       "      <td>no</td>\n",
       "    </tr>\n",
       "    <tr>\n",
       "      <th>1</th>\n",
       "      <td>-5.219204</td>\n",
       "      <td>39.947191</td>\n",
       "      <td>chake chake</td>\n",
       "      <td>tz</td>\n",
       "    </tr>\n",
       "    <tr>\n",
       "      <th>2</th>\n",
       "      <td>-44.034416</td>\n",
       "      <td>-128.524299</td>\n",
       "      <td>rikitea</td>\n",
       "      <td>pf</td>\n",
       "    </tr>\n",
       "    <tr>\n",
       "      <th>3</th>\n",
       "      <td>-14.133012</td>\n",
       "      <td>-103.387565</td>\n",
       "      <td>puerto ayora</td>\n",
       "      <td>ec</td>\n",
       "    </tr>\n",
       "    <tr>\n",
       "      <th>4</th>\n",
       "      <td>-88.152177</td>\n",
       "      <td>-168.339850</td>\n",
       "      <td>vaini</td>\n",
       "      <td>to</td>\n",
       "    </tr>\n",
       "  </tbody>\n",
       "</table>\n",
       "</div>"
      ],
      "text/plain": [
       "    Latitude   Longitude     City Name Country Code\n",
       "0  70.501457   26.713374   kjollefjord           no\n",
       "1  -5.219204   39.947191   chake chake           tz\n",
       "2 -44.034416 -128.524299       rikitea           pf\n",
       "3 -14.133012 -103.387565  puerto ayora           ec\n",
       "4 -88.152177 -168.339850         vaini           to"
      ]
     },
     "execution_count": 74,
     "metadata": {},
     "output_type": "execute_result"
    }
   ],
   "source": [
    "#getting city name and city country code for the randomly generate latitude and longitude list\n",
    "LatLong_data['City Name'] = 0\n",
    "LatLong_data['Country Code'] = 0\n",
    "\n",
    "for r in np.arange(len(LatLong_data)):\n",
    "    city = citipy.nearest_city(LatLong_data.loc[r,('Latitude')], \n",
    "                               LatLong_data.loc[r,('Longitude')])\n",
    "    LatLong_data.loc[r,('City Name')] = city.city_name\n",
    "    LatLong_data.loc[r,('Country Code')] = city.country_code\n",
    "    \n",
    "LatLong_data.head()"
   ]
  },
  {
   "cell_type": "code",
   "execution_count": 75,
   "metadata": {},
   "outputs": [
    {
     "name": "stdout",
     "output_type": "stream",
     "text": [
      "http://api.openweathermap.org/data/2.5/weather?units=Imperial&APPID=dde58ea7326445702221b6e2dd601be8&q=kjollefjord%2Cno\n",
      "http://api.openweathermap.org/data/2.5/weather?units=Imperial&APPID=dde58ea7326445702221b6e2dd601be8&q=chake+chake%2Ctz\n",
      "http://api.openweathermap.org/data/2.5/weather?units=Imperial&APPID=dde58ea7326445702221b6e2dd601be8&q=rikitea%2Cpf\n",
      "http://api.openweathermap.org/data/2.5/weather?units=Imperial&APPID=dde58ea7326445702221b6e2dd601be8&q=puerto+ayora%2Cec\n",
      "http://api.openweathermap.org/data/2.5/weather?units=Imperial&APPID=dde58ea7326445702221b6e2dd601be8&q=vaini%2Cto\n",
      "http://api.openweathermap.org/data/2.5/weather?units=Imperial&APPID=dde58ea7326445702221b6e2dd601be8&q=lorengau%2Cpg\n",
      "http://api.openweathermap.org/data/2.5/weather?units=Imperial&APPID=dde58ea7326445702221b6e2dd601be8&q=aklavik%2Cca\n",
      "http://api.openweathermap.org/data/2.5/weather?units=Imperial&APPID=dde58ea7326445702221b6e2dd601be8&q=kruisfontein%2Cza\n",
      "http://api.openweathermap.org/data/2.5/weather?units=Imperial&APPID=dde58ea7326445702221b6e2dd601be8&q=bonavista%2Cca\n",
      "http://api.openweathermap.org/data/2.5/weather?units=Imperial&APPID=dde58ea7326445702221b6e2dd601be8&q=belushya+guba%2Cru\n",
      "City not found, skipping\n",
      "http://api.openweathermap.org/data/2.5/weather?units=Imperial&APPID=dde58ea7326445702221b6e2dd601be8&q=hambantota%2Clk\n",
      "http://api.openweathermap.org/data/2.5/weather?units=Imperial&APPID=dde58ea7326445702221b6e2dd601be8&q=yellowknife%2Cca\n",
      "http://api.openweathermap.org/data/2.5/weather?units=Imperial&APPID=dde58ea7326445702221b6e2dd601be8&q=nikolskoye%2Cru\n",
      "http://api.openweathermap.org/data/2.5/weather?units=Imperial&APPID=dde58ea7326445702221b6e2dd601be8&q=razole%2Cin\n",
      "http://api.openweathermap.org/data/2.5/weather?units=Imperial&APPID=dde58ea7326445702221b6e2dd601be8&q=birjand%2Cir\n",
      "http://api.openweathermap.org/data/2.5/weather?units=Imperial&APPID=dde58ea7326445702221b6e2dd601be8&q=port+blair%2Cin\n",
      "http://api.openweathermap.org/data/2.5/weather?units=Imperial&APPID=dde58ea7326445702221b6e2dd601be8&q=clonakilty%2Cie\n",
      "http://api.openweathermap.org/data/2.5/weather?units=Imperial&APPID=dde58ea7326445702221b6e2dd601be8&q=sentyabrskiy%2Cru\n",
      "City not found, skipping\n",
      "http://api.openweathermap.org/data/2.5/weather?units=Imperial&APPID=dde58ea7326445702221b6e2dd601be8&q=tiksi%2Cru\n",
      "http://api.openweathermap.org/data/2.5/weather?units=Imperial&APPID=dde58ea7326445702221b6e2dd601be8&q=hithadhoo%2Cmv\n",
      "http://api.openweathermap.org/data/2.5/weather?units=Imperial&APPID=dde58ea7326445702221b6e2dd601be8&q=houma%2Cus\n",
      "http://api.openweathermap.org/data/2.5/weather?units=Imperial&APPID=dde58ea7326445702221b6e2dd601be8&q=rikitea%2Cpf\n",
      "http://api.openweathermap.org/data/2.5/weather?units=Imperial&APPID=dde58ea7326445702221b6e2dd601be8&q=zhanaozen%2Ckz\n",
      "http://api.openweathermap.org/data/2.5/weather?units=Imperial&APPID=dde58ea7326445702221b6e2dd601be8&q=salalah%2Com\n",
      "http://api.openweathermap.org/data/2.5/weather?units=Imperial&APPID=dde58ea7326445702221b6e2dd601be8&q=ahipara%2Cnz\n",
      "http://api.openweathermap.org/data/2.5/weather?units=Imperial&APPID=dde58ea7326445702221b6e2dd601be8&q=rikitea%2Cpf\n",
      "http://api.openweathermap.org/data/2.5/weather?units=Imperial&APPID=dde58ea7326445702221b6e2dd601be8&q=tuktoyaktuk%2Cca\n",
      "http://api.openweathermap.org/data/2.5/weather?units=Imperial&APPID=dde58ea7326445702221b6e2dd601be8&q=mys+shmidta%2Cru\n",
      "City not found, skipping\n",
      "http://api.openweathermap.org/data/2.5/weather?units=Imperial&APPID=dde58ea7326445702221b6e2dd601be8&q=orange+walk%2Cbz\n",
      "http://api.openweathermap.org/data/2.5/weather?units=Imperial&APPID=dde58ea7326445702221b6e2dd601be8&q=atuona%2Cpf\n"
     ]
    },
    {
     "data": {
      "text/html": [
       "<div>\n",
       "<style scoped>\n",
       "    .dataframe tbody tr th:only-of-type {\n",
       "        vertical-align: middle;\n",
       "    }\n",
       "\n",
       "    .dataframe tbody tr th {\n",
       "        vertical-align: top;\n",
       "    }\n",
       "\n",
       "    .dataframe thead th {\n",
       "        text-align: right;\n",
       "    }\n",
       "</style>\n",
       "<table border=\"1\" class=\"dataframe\">\n",
       "  <thead>\n",
       "    <tr style=\"text-align: right;\">\n",
       "      <th></th>\n",
       "      <th>Longitude</th>\n",
       "      <th>Latitude</th>\n",
       "      <th>City Name</th>\n",
       "      <th>Temperature(F)</th>\n",
       "      <th>Humidity (%)</th>\n",
       "      <th>Cloudiness (%)</th>\n",
       "      <th>Wind Speed (mph)</th>\n",
       "    </tr>\n",
       "  </thead>\n",
       "  <tbody>\n",
       "    <tr>\n",
       "      <th>0</th>\n",
       "      <td>26.713374</td>\n",
       "      <td>70.501457</td>\n",
       "      <td>kjollefjord</td>\n",
       "      <td>52.56</td>\n",
       "      <td>100.0</td>\n",
       "      <td>90.0</td>\n",
       "      <td>5.82</td>\n",
       "    </tr>\n",
       "    <tr>\n",
       "      <th>1</th>\n",
       "      <td>39.947191</td>\n",
       "      <td>-5.219204</td>\n",
       "      <td>chake chake</td>\n",
       "      <td>73.77</td>\n",
       "      <td>100.0</td>\n",
       "      <td>100.0</td>\n",
       "      <td>18.75</td>\n",
       "    </tr>\n",
       "    <tr>\n",
       "      <th>2</th>\n",
       "      <td>-128.524299</td>\n",
       "      <td>-44.034416</td>\n",
       "      <td>rikitea</td>\n",
       "      <td>73.68</td>\n",
       "      <td>100.0</td>\n",
       "      <td>48.0</td>\n",
       "      <td>19.53</td>\n",
       "    </tr>\n",
       "    <tr>\n",
       "      <th>3</th>\n",
       "      <td>-103.387565</td>\n",
       "      <td>-14.133012</td>\n",
       "      <td>puerto ayora</td>\n",
       "      <td>71.25</td>\n",
       "      <td>100.0</td>\n",
       "      <td>64.0</td>\n",
       "      <td>15.84</td>\n",
       "    </tr>\n",
       "    <tr>\n",
       "      <th>4</th>\n",
       "      <td>-168.339850</td>\n",
       "      <td>-88.152177</td>\n",
       "      <td>vaini</td>\n",
       "      <td>77.00</td>\n",
       "      <td>69.0</td>\n",
       "      <td>20.0</td>\n",
       "      <td>8.05</td>\n",
       "    </tr>\n",
       "  </tbody>\n",
       "</table>\n",
       "</div>"
      ],
      "text/plain": [
       "    Longitude   Latitude     City Name  Temperature(F)  Humidity (%)  \\\n",
       "0   26.713374  70.501457   kjollefjord           52.56         100.0   \n",
       "1   39.947191  -5.219204   chake chake           73.77         100.0   \n",
       "2 -128.524299 -44.034416       rikitea           73.68         100.0   \n",
       "3 -103.387565 -14.133012  puerto ayora           71.25         100.0   \n",
       "4 -168.339850 -88.152177         vaini           77.00          69.0   \n",
       "\n",
       "   Cloudiness (%)  Wind Speed (mph)  \n",
       "0            90.0              5.82  \n",
       "1           100.0             18.75  \n",
       "2            48.0             19.53  \n",
       "3            64.0             15.84  \n",
       "4            20.0              8.05  "
      ]
     },
     "execution_count": 75,
     "metadata": {},
     "output_type": "execute_result"
    }
   ],
   "source": [
    "# Perform a weather check on each of the cities using a series of successive API calls. \n",
    "settings = {\"APPID\": api_key, \"units\": \"metric\", \"lang\": \"EN\"}\n",
    "params = {\n",
    "    \"units\": \"Imperial\",\n",
    "    \"APPID\": api_key,\n",
    "}\n",
    "new_table = pd.DataFrame({\"Longitude\":[], \"Latitude\": [], 'City Name':[],\n",
    "                          'Temperature(F)':[],'Humidity (%)':[], 'Cloudiness (%)':[],\n",
    "                         'Wind Speed (mph)':[]})\n",
    "#LatLong_data['Temperature(F)'] = 0\n",
    "#LatLong_data['Humidity (%)'] = 0\n",
    "#LatLong_data['Cloudiness (%)'] = 0\n",
    "#LatLong_data['Wind Speed (mph)'] = 0\n",
    "\n",
    "base_url = \"http://api.openweathermap.org/data/2.5/weather?\"\n",
    "\n",
    "#http://api.openweathermap.org/data/2.5/weather?units=Imperial&APPID=924783bda048569443e49dd6a03e5591&q=zachagansk\n",
    "\n",
    "for index,row in LatLong_data.iterrows():\n",
    "    location = row['City Name'] + ',' + row['Country Code']\n",
    "    \n",
    "    params['q'] = location\n",
    "    \n",
    "    response = requests.get(base_url, params=params)\n",
    "    print(response.url)\n",
    "    if(response.status_code == 200):\n",
    "        data = response.json()\n",
    "    \n",
    "        #print(data)\n",
    "        #data = owm.get_current(location, **settings)\n",
    "        #print(json.dumps(data, indent =4))\n",
    "        # Build query URL\n",
    "        #query_url = base_url + \"units=\" + settings[\"units\"] + \"&APPID=\" + api_key + \"&q=\" + location\n",
    "        #print(query_url)\n",
    "        new_table.loc[index,'Latitude'] = row['Latitude']\n",
    "        new_table.loc[index,'Longitude'] = row['Longitude']\n",
    "        new_table.loc[index,'City Name'] = row['City Name']\n",
    "        \n",
    "        # temperature is given in Celsius\n",
    "        new_table.loc[index,'Temperature(F)'] = data['main']['temp']\n",
    "        new_table.loc[index,('Humidity (%)')] = data['main']['humidity'] \n",
    "        new_table.loc[index,('Cloudiness (%)')] = data[\"clouds\"][\"all\"] \n",
    "        # wind speed is given in mps\n",
    "        new_table.loc[index,('Wind Speed (mph)')] = data[\"wind\"][\"speed\"]\n",
    "    else:\n",
    "        print(\"City not found, skipping\")\n",
    "    time.sleep(1)\n",
    "''' \n",
    "location = (LatLong_data.loc[0,('City Name')] + ',' +\n",
    "                LatLong_data.loc[0,('Country Code')])\n",
    "print(location)\n",
    "data = owm.get_current(location, **settings)\n",
    "print(data(\"main.temp\"))\n",
    "'''    \n",
    "new_table.head()"
   ]
  },
  {
   "cell_type": "code",
   "execution_count": 78,
   "metadata": {},
   "outputs": [
    {
     "data": {
      "image/png": "[encoded data removed]",
      "text/plain": [
       "<Figure size 360x360 with 1 Axes>"
      ]
     },
     "metadata": {},
     "output_type": "display_data"
    }
   ],
   "source": [
    "# Your objective is to build a series of scatter plots to showcase the following relationships:\n",
    "# Temperature (F) vs. Latitude\n",
    "\n",
    "sns.lmplot(x = 'Latitude', y = 'Temperature(F)', fit_reg = False, data = new_table)\n",
    "ax = plt.gca()\n",
    "ax.set_title(\"Latitude vs. Temperature(F)\")\n",
    "plt.show()\n"
   ]
  },
  {
   "cell_type": "code",
   "execution_count": 82,
   "metadata": {},
   "outputs": [
    {
     "data": {
      "image/png": "[encoded data removed]",
      "text/plain": [
       "<Figure size 360x360 with 1 Axes>"
      ]
     },
     "metadata": {},
     "output_type": "display_data"
    }
   ],
   "source": [
    "# Humidity (%) vs. Latitude\n",
    "\n",
    "#sns.regplot(x = 'Latitude', y = 'Humidity (%)', data = LatLong_data, \n",
    "            #scatter = True, fit_reg = True, marker = 'o')\n",
    "\n",
    "sns.lmplot(x = 'Latitude', y = 'Humidity (%)', fit_reg = False, data = new_table)\n",
    "ax = plt.gca()\n",
    "ax.set_title(\"Latitude vs. Humidity(%)\")\n",
    "plt.show()"
   ]
  },
  {
   "cell_type": "code",
   "execution_count": 83,
   "metadata": {},
   "outputs": [
    {
     "data": {
      "image/png": "[encoded data removed]",
      "text/plain": [
       "<Figure size 360x360 with 1 Axes>"
      ]
     },
     "metadata": {},
     "output_type": "display_data"
    }
   ],
   "source": [
    "# Cloudiness (%) vs. Latitude\n",
    "#sns.regplot(x = 'Latitude', y = 'Cloudiness (%)', data = LatLong_data, \n",
    "            #scatter = True, fit_reg = True, marker = 'o')\n",
    "\n",
    "sns.lmplot(x = 'Latitude', y = 'Cloudiness (%)', fit_reg = False, data = new_table)\n",
    "ax = plt.gca()\n",
    "ax.set_title(\"Latitude vs. Cloudiness (%)\")\n",
    "plt.show()"
   ]
  },
  {
   "cell_type": "code",
   "execution_count": 84,
   "metadata": {},
   "outputs": [
    {
     "data": {
      "image/png": "[encoded data removed]",
      "text/plain": [
       "<Figure size 360x360 with 1 Axes>"
      ]
     },
     "metadata": {},
     "output_type": "display_data"
    }
   ],
   "source": [
    "# Wind Speed (mph) vs. Latitude\n",
    "\n",
    "#sns.regplot(x = 'Latitude', y = 'Wind Speed (mph)', data = LatLong_data, \n",
    "#            scatter = True, fit_reg = True, marker = 'o')\n",
    "\n",
    "sns.lmplot(x = 'Latitude', y = 'Wind Speed (mph)', fit_reg = False, data = new_table)\n",
    "ax = plt.gca()\n",
    "ax.set_title(\"Latitude vs. Wind Speed (mph)\")\n",
    "plt.show()"
   ]
  },
  {
   "cell_type": "markdown",
   "metadata": {},
   "source": []
  }
 ],
 "metadata": {
  "kernelspec": {
   "display_name": "Python [default]",
   "language": "python",
   "name": "python3"
  },
  "language_info": {
   "codemirror_mode": {
    "name": "ipython",
    "version": 3
   },
   "file_extension": ".py",
   "mimetype": "text/x-python",
   "name": "python",
   "nbconvert_exporter": "python",
   "pygments_lexer": "ipython3",
   "version": "3.6.5"
  }
 },
 "nbformat": 4,
 "nbformat_minor": 2
}
